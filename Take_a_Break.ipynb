{
 "cells": [
  {
   "cell_type": "markdown",
   "metadata": {},
   "source": [
    "# Rotina Take a Break\n",
    "\n",
    "> Rotina para me lembrar de para de fazer pequenas pausas ao longo do dia (para beber água, tomar um café, alongar)\n",
    "\n",
    "> A cada 2500 segundos abre um vídeo no YouTube."
   ]
  },
  {
   "cell_type": "code",
   "execution_count": 1,
   "metadata": {},
   "outputs": [],
   "source": [
    "import webbrowser\n",
    "import time\n",
    "import random\n",
    "import ctypes"
   ]
  },
  {
   "cell_type": "code",
   "execution_count": null,
   "metadata": {},
   "outputs": [],
   "source": [
    "current_time = time.strftime('%H:%M')\n",
    "\n",
    "lista_de_urls = ['https://www.youtube.com/watch?v=RmOdsamN7xk','https://www.youtube.com/watch?v=MkFQHScyti0',\n",
    "                 'https://www.youtube.com/watch?v=idnJnjV_8rg','https://www.youtube.com/watch?v=0My2AqPFpFg',\n",
    "                 'https://www.youtube.com/watch?v=OAxm_GSM7L4','https://www.youtube.com/watch?v=6NXnxTNIWkc',\n",
    "                 'https://www.youtube.com/watch?v=lc_m_X_jf1o','https://www.youtube.com/watch?v=7wtfhZwyrcc',\n",
    "                 'https://www.youtube.com/watch?v=fKopy74weus','https://www.youtube.com/watch?v=bo_efYhYU2A',\n",
    "                 'https://www.youtube.com/watch?v=5vheNbQlsyU','https://www.youtube.com/watch?v=fPgs3qq9CGs',\n",
    "                 'https://www.youtube.com/watch?v=GKhOP1qk27c','https://www.youtube.com/watch?v=w4KXtk8Vx2s',\n",
    "                 'https://www.youtube.com/watch?v=6Febms7T2b4','https://www.youtube.com/watch?v=TMbEgAx1F58',\n",
    "                 'https://youtu.be/G_O-8jCtSIE','https://www.youtube.com/watch?v=y7HHXuFFA1U',\n",
    "                 'https://www.youtube.com/watch?v=XnsX3rInsEU','https://www.youtube.com/watch?v=2UDZH_Htpq8',\n",
    "                 'https://www.youtube.com/watch?v=doUc3R3WBjs','https://www.youtube.com/watch?v=8qJ5yjUSP10',\n",
    "                 'https://www.youtube.com/watch?v=nfk6sCzRTbM','https://www.youtube.com/watch?v=dwo6rpuoWMc']\n",
    "\n",
    "lista_msg = ['Que tal uma água?', 'Arrume essa postura!','Já é hora do cafézinho?','Vamos alooooongar um pouco!',\n",
    "             'Acho que você está precisando de um gole de água...', 'Que tal uma música boa?']\n",
    "\n",
    "while (current_time > '08:00'  and current_time < '18:00'):\n",
    "    mensagem = random.choice(lista_msg)\n",
    "    ctypes.windll.user32.MessageBoxW(0, mensagem,\"TAKE A BREAK\", 1)\n",
    "    video = random.choice(lista_de_urls)\n",
    "    webbrowser.open(video)\n",
    "    time.sleep(2500)\n",
    "print('Out of time to break a time :)')"
   ]
  },
  {
   "cell_type": "code",
   "execution_count": null,
   "metadata": {},
   "outputs": [],
   "source": []
  }
 ],
 "metadata": {
  "kernelspec": {
   "display_name": "Python 3",
   "language": "python",
   "name": "python3"
  },
  "language_info": {
   "codemirror_mode": {
    "name": "ipython",
    "version": 3
   },
   "file_extension": ".py",
   "mimetype": "text/x-python",
   "name": "python",
   "nbconvert_exporter": "python",
   "pygments_lexer": "ipython3",
   "version": "3.7.0"
  }
 },
 "nbformat": 4,
 "nbformat_minor": 2
}
